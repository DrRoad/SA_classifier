{
 "cells": [
  {
   "cell_type": "markdown",
   "metadata": {},
   "source": [
    "## Demo Run with Indicator Coordinates"
   ]
  },
  {
   "cell_type": "code",
   "execution_count": null,
   "metadata": {},
   "outputs": [],
   "source": [
    "%matplotlib inline\n",
    "%config InlineBackend.figure_format = 'retina'\n",
    "%cd /Users/Leonard/Desktop/NN_imp/SA_classifier"
   ]
  },
  {
   "cell_type": "code",
   "execution_count": null,
   "metadata": {},
   "outputs": [],
   "source": [
    "from SA_geometry import *"
   ]
  },
  {
   "cell_type": "code",
   "execution_count": null,
   "metadata": {},
   "outputs": [],
   "source": [
    "#This coordinate serves as an indicator for nearby SA\n",
    "coords = (51.520404, -0.071797)"
   ]
  },
  {
   "cell_type": "markdown",
   "metadata": {},
   "source": [
    "### Build a 2D Model of the area"
   ]
  },
  {
   "cell_type": "code",
   "execution_count": null,
   "metadata": {},
   "outputs": [],
   "source": [
    "#Create the surrounding bbox (see source)\n",
    "bbox = create_bbox(coords, polygonize=True)\n",
    "#Get data and model the polygon objects within the bbox\n",
    "polygons = extract_polygons(\n",
    "    create_bbox(coords, polygonize=False)\n",
    ")\n",
    "#Aggregate the polygons into one big MultiPolygon object (in order to plot it)\n",
    "aggregated = aggregate_polygons(polygons, bbox)"
   ]
  },
  {
   "cell_type": "markdown",
   "metadata": {},
   "source": [
    "### Extract relevant facades"
   ]
  },
  {
   "cell_type": "code",
   "execution_count": null,
   "metadata": {},
   "outputs": [],
   "source": [
    "plot(aggregated, \"blue\"), plot(coords, \"purple\", size=6.5)"
   ]
  },
  {
   "cell_type": "code",
   "execution_count": null,
   "metadata": {},
   "outputs": [],
   "source": [
    "#Extract the *target polygon* which contains the facades (see source)\n",
    "target = extract_target_polygon(bbox, polygons)"
   ]
  },
  {
   "cell_type": "code",
   "execution_count": null,
   "metadata": {},
   "outputs": [],
   "source": [
    "plot(bbox, \"black\"), plot(aggregated, \"blue\"), plot(coords, \"green\", size=10)"
   ]
  },
  {
   "cell_type": "code",
   "execution_count": null,
   "metadata": {},
   "outputs": [],
   "source": [
    "#Extract the *facades* from the target polygon (see source)\n",
    "facades = extract_facades(list(target.boundary.difference(bbox.boundary))) \n",
    "#Segment the facades (if needed)\n",
    "facades = segment(facades, size=10)"
   ]
  },
  {
   "cell_type": "code",
   "execution_count": null,
   "metadata": {},
   "outputs": [],
   "source": [
    "plot(bbox, \"black\"), plot(aggregated, \"blue\"), plot(facades, \"orange\"), plot(coords, \"green\", size=7.33)"
   ]
  },
  {
   "cell_type": "markdown",
   "metadata": {},
   "source": [
    "## Get the image data for all extracted facades"
   ]
  },
  {
   "cell_type": "code",
   "execution_count": null,
   "metadata": {},
   "outputs": [],
   "source": [
    "# If a nearby gsv_point exists, retrieve the photo of the facade\n",
    "# Adjust parameters accordingly.(see source)\n",
    "data = get_gsv_data(facades=facades, target=target,\n",
    "                    photogeometric_fov=False,\n",
    "                    as_dataframe=True)\n",
    "data.to_csv(\"demo_run.csv\")"
   ]
  },
  {
   "cell_type": "markdown",
   "metadata": {},
   "source": [
    "### Submit the data to the trained Neural Network"
   ]
  },
  {
   "cell_type": "code",
   "execution_count": null,
   "metadata": {},
   "outputs": [],
   "source": [
    "from SA_predict import classify\n",
    "import pandas as pd\n",
    "from shapely.wkt import loads as to_geo\n",
    "from IPython.display import Image, display"
   ]
  },
  {
   "cell_type": "code",
   "execution_count": null,
   "metadata": {},
   "outputs": [],
   "source": [
    "#load data\n",
    "data = pd.read_csv(\"demo_run.csv\", index_col=0)"
   ]
  },
  {
   "cell_type": "code",
   "execution_count": null,
   "metadata": {},
   "outputs": [],
   "source": [
    "#load data\n",
    "data = pd.read_csv(\"demo_run.csv\", index_col=0)\n",
    "#classify data\n",
    "data = classify(data, to_csv=True)"
   ]
  },
  {
   "cell_type": "markdown",
   "metadata": {},
   "source": [
    "### Evaluation"
   ]
  },
  {
   "cell_type": "code",
   "execution_count": null,
   "metadata": {},
   "outputs": [],
   "source": [
    "from IPython.display import Image, display, HTML"
   ]
  },
  {
   "cell_type": "code",
   "execution_count": null,
   "metadata": {},
   "outputs": [],
   "source": [
    "SA_candidates = [ to_geo(facade) for facade in list(data[data[\"pred\"] > .99][\"facade\"]) ]"
   ]
  },
  {
   "cell_type": "code",
   "execution_count": null,
   "metadata": {},
   "outputs": [],
   "source": [
    "plot(aggregated, \"blue\"), plot(facades, \"orange\"), plot(coords, \"green\", size=7.33), plot(SA_candidates, \"red\")"
   ]
  },
  {
   "cell_type": "code",
   "execution_count": null,
   "metadata": {},
   "outputs": [],
   "source": [
    "for gsv in list(data[data[\"pred\"] == 1][\"photo\"]):\n",
    "    display(Image(url=gsv, width=300, height=300)); display(HTML('<h9>$P(SA) = 1$</h3>'))"
   ]
  }
 ],
 "metadata": {
  "kernelspec": {
   "display_name": "Python 3",
   "language": "python",
   "name": "python3"
  },
  "language_info": {
   "codemirror_mode": {
    "name": "ipython",
    "version": 3
   },
   "file_extension": ".py",
   "mimetype": "text/x-python",
   "name": "python",
   "nbconvert_exporter": "python",
   "pygments_lexer": "ipython3",
   "version": "3.7.3"
  }
 },
 "nbformat": 4,
 "nbformat_minor": 4
}
